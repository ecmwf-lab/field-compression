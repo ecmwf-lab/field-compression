{
 "cells": [
  {
   "attachments": {},
   "cell_type": "markdown",
   "id": "af74ef3c",
   "metadata": {},
   "source": [
    "# Programmatic example with MARS/GRIB input"
   ]
  },
  {
   "cell_type": "code",
   "execution_count": null,
   "id": "62ee96bd",
   "metadata": {},
   "outputs": [],
   "source": [
    "%%javascript\n",
    "// leave this in to disable autoscroll in Jupyter notebook\n",
    "IPython.OutputArea.prototype._should_scroll = function(lines) {\n",
    "    return false;\n",
    "}"
   ]
  },
  {
   "attachments": {},
   "cell_type": "markdown",
   "id": "97dd7e80",
   "metadata": {},
   "source": [
    "## Imports"
   ]
  },
  {
   "cell_type": "code",
   "execution_count": null,
   "id": "0ebcb0ba",
   "metadata": {},
   "outputs": [],
   "source": [
    "import os\n",
    "from pathlib import Path\n",
    "import json\n",
    "import numpy as np\n",
    "import fcpy"
   ]
  },
  {
   "attachments": {},
   "cell_type": "markdown",
   "id": "624e26e6",
   "metadata": {},
   "source": [
    "## Load data"
   ]
  },
  {
   "cell_type": "code",
   "execution_count": null,
   "id": "177bb6f6",
   "metadata": {},
   "outputs": [],
   "source": [
    "if (Path().home() / \".ecmwfapirc\").exists():\n",
    "    fpath = \"../samples/cases/hplp_ml_q.json\"\n",
    "    request = json.load(open(fpath))[\"mars\"]\n",
    "    ds = fcpy.fetch_mars_dataset(request)\n",
    "else:\n",
    "    ds = fcpy.open_dataset(\"../data/mars.grib\")\n",
    "    \n",
    "ds = ds.isel(hybrid=[0, 1])\n",
    "ds"
   ]
  },
  {
   "attachments": {},
   "cell_type": "markdown",
   "id": "32cd7841",
   "metadata": {},
   "source": [
    "## Define and run experiment"
   ]
  },
  {
   "cell_type": "code",
   "execution_count": null,
   "id": "0ae49c81",
   "metadata": {},
   "outputs": [],
   "source": [
    "suite = fcpy.Suite(\n",
    "    ds,\n",
    "    baseline=fcpy.Float(bits=32),\n",
    "    compressors=[fcpy.LinQuantization(), fcpy.Round()],\n",
    "    metrics=[fcpy.Difference, fcpy.AbsoluteError],\n",
    "    bits=[13, 14, 15, 16, 17, 18, 19, 20, 21, 22],\n",
    "    max_chunk_size_bytes=451 * 900 * 6,\n",
    "    skip_histograms=True,\n",
    ")"
   ]
  },
  {
   "attachments": {},
   "cell_type": "markdown",
   "id": "5753f1da",
   "metadata": {},
   "source": [
    "## Lineplot: evaluate the effect of bits"
   ]
  },
  {
   "cell_type": "code",
   "execution_count": null,
   "id": "6de94f2d",
   "metadata": {},
   "outputs": [],
   "source": [
    "suite.lineplot(fcpy.AbsoluteError, reduction=\"max\")"
   ]
  },
  {
   "attachments": {},
   "cell_type": "markdown",
   "id": "af2beacf",
   "metadata": {},
   "source": [
    "## Boxplot: evaluate statistical characteristics of errors"
   ]
  },
  {
   "cell_type": "code",
   "execution_count": null,
   "id": "d41ee01a",
   "metadata": {},
   "outputs": [],
   "source": [
    "bits = 13\n",
    "suite.boxplot(metric=fcpy.Difference, compressor=\"LinQuantization\", bits=bits)\n",
    "suite.boxplot(metric=fcpy.Difference, compressor=\"Round\", bits=bits)"
   ]
  },
  {
   "attachments": {},
   "cell_type": "markdown",
   "id": "f94320e7",
   "metadata": {},
   "source": [
    "## Spatial plots: evaluate the spatial distribution of errors"
   ]
  },
  {
   "cell_type": "code",
   "execution_count": null,
   "id": "fe674ae0",
   "metadata": {},
   "outputs": [],
   "source": [
    "if not os.getenv(\"SPHINX_BUILD\"):\n",
    "    # Here we compare the spatial change of specific humidity\n",
    "    # by rounding values to 8 bits\n",
    "    fcpy.spatialplot(\n",
    "        ds=ds,\n",
    "        baseline=fcpy.Float(bits=32),\n",
    "        var_name=\"q\",\n",
    "        compressor=fcpy.Round(bits=6),\n",
    "        metric=fcpy.Difference,\n",
    "        latitude=0,\n",
    "        longitude=0,\n",
    "        hybrid=1,\n",
    "        step=np.timedelta64(0, \"ns\"),\n",
    "        third_dim=\"hybrid\",\n",
    "    )"
   ]
  },
  {
   "cell_type": "code",
   "execution_count": null,
   "id": "6651f166",
   "metadata": {},
   "outputs": [],
   "source": []
  }
 ],
 "metadata": {
  "kernelspec": {
   "display_name": "Python 3 (ipykernel)",
   "language": "python",
   "name": "python3"
  },
  "language_info": {
   "codemirror_mode": {
    "name": "ipython",
    "version": 3
   },
   "file_extension": ".py",
   "mimetype": "text/x-python",
   "name": "python",
   "nbconvert_exporter": "python",
   "pygments_lexer": "ipython3",
   "version": "3.10.6"
  },
  "vscode": {
   "interpreter": {
    "hash": "53f894e0dcb18617adfb8166459c1fa1fb813968591fcc131000c13806b1ffe3"
   }
  }
 },
 "nbformat": 4,
 "nbformat_minor": 5
}
