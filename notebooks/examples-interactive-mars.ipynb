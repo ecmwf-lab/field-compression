{
 "cells": [
  {
   "attachments": {},
   "cell_type": "markdown",
   "id": "af74ef3c",
   "metadata": {},
   "source": [
    "# Interactive examples with MARS/GRIB input"
   ]
  },
  {
   "cell_type": "code",
   "execution_count": null,
   "id": "62ee96bd",
   "metadata": {},
   "outputs": [],
   "source": [
    "%%javascript\n",
    "// leave this in to disable autoscroll in Jupyter notebook\n",
    "IPython.OutputArea.prototype._should_scroll = function(lines) {\n",
    "    return false;\n",
    "}"
   ]
  },
  {
   "attachments": {},
   "cell_type": "markdown",
   "id": "a365c820",
   "metadata": {},
   "source": [
    "## Imports"
   ]
  },
  {
   "cell_type": "code",
   "execution_count": null,
   "id": "0ebcb0ba",
   "metadata": {},
   "outputs": [],
   "source": [
    "import os\n",
    "from pathlib import Path\n",
    "import json\n",
    "import fcpy"
   ]
  },
  {
   "attachments": {},
   "cell_type": "markdown",
   "id": "d5db5a2c",
   "metadata": {},
   "source": [
    "## Load data"
   ]
  },
  {
   "cell_type": "code",
   "execution_count": null,
   "id": "1a5adf12",
   "metadata": {},
   "outputs": [],
   "source": [
    "if (Path().home() / \".ecmwfapirc\").exists():\n",
    "    fpath = \"../samples/cases/hplp_ml_q.json\"\n",
    "    request = json.load(open(fpath))[\"mars\"]\n",
    "    ds = fcpy.fetch_mars_dataset(request)\n",
    "else:\n",
    "    ds = fcpy.open_dataset(\"../data/mars.grib\")\n",
    "    \n",
    "ds = ds.isel(hybrid=[0, 1])\n",
    "ds"
   ]
  },
  {
   "attachments": {},
   "cell_type": "markdown",
   "id": "0bfb52f1",
   "metadata": {},
   "source": [
    "## Define and run experiment"
   ]
  },
  {
   "cell_type": "code",
   "execution_count": null,
   "id": "1a0f56eb",
   "metadata": {},
   "outputs": [],
   "source": [
    "suite = fcpy.Suite(\n",
    "    ds,\n",
    "    baseline=fcpy.Float(bits=32),\n",
    "    compressors=[fcpy.LinQuantization(), fcpy.Round()],\n",
    "    metrics=[fcpy.Difference, fcpy.AbsoluteError],\n",
    "    bits=list(range(12, 20)),\n",
    ")"
   ]
  },
  {
   "attachments": {},
   "cell_type": "markdown",
   "id": "36e958a8",
   "metadata": {},
   "source": [
    "## Lineplot: evaluate the effect of bits"
   ]
  },
  {
   "cell_type": "code",
   "execution_count": null,
   "id": "2201ac35",
   "metadata": {},
   "outputs": [],
   "source": [
    "suite.nblineplot()"
   ]
  },
  {
   "attachments": {},
   "cell_type": "markdown",
   "id": "13addcbc",
   "metadata": {},
   "source": [
    "## Spatial plots: evaluate the spatial distribution of errors"
   ]
  },
  {
   "cell_type": "code",
   "execution_count": null,
   "id": "6c61af79",
   "metadata": {},
   "outputs": [],
   "source": [
    "if not os.getenv(\"SPHINX_BUILD\"):\n",
    "    fcpy.nbspatialplot(\n",
    "        ds,\n",
    "        baseline=fcpy.Float(bits=32),\n",
    "        compressor=fcpy.LinQuantization(bits=12),\n",
    "        third_dim=\"hybrid\",\n",
    "    )"
   ]
  },
  {
   "cell_type": "code",
   "execution_count": null,
   "id": "6e2373e2",
   "metadata": {},
   "outputs": [],
   "source": []
  }
 ],
 "metadata": {
  "kernelspec": {
   "display_name": "Python 3 (ipykernel)",
   "language": "python",
   "name": "python3"
  },
  "language_info": {
   "codemirror_mode": {
    "name": "ipython",
    "version": 3
   },
   "file_extension": ".py",
   "mimetype": "text/x-python",
   "name": "python",
   "nbconvert_exporter": "python",
   "pygments_lexer": "ipython3",
   "version": "3.10.6"
  }
 },
 "nbformat": 4,
 "nbformat_minor": 5
}
