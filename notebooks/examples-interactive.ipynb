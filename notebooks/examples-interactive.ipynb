{
 "cells": [
  {
   "cell_type": "markdown",
   "id": "af74ef3c",
   "metadata": {},
   "source": [
    "# Interactive examples"
   ]
  },
  {
   "cell_type": "code",
   "execution_count": null,
   "id": "62ee96bd",
   "metadata": {},
   "outputs": [],
   "source": [
    "%%javascript\n",
    "// leave this in to disable autoscroll in Jupyter notebook\n",
    "IPython.OutputArea.prototype._should_scroll = function(lines) {\n",
    "    return false;\n",
    "}"
   ]
  },
  {
   "cell_type": "markdown",
   "id": "a365c820",
   "metadata": {},
   "source": [
    "## Imports"
   ]
  },
  {
   "cell_type": "code",
   "execution_count": null,
   "id": "0ebcb0ba",
   "metadata": {},
   "outputs": [],
   "source": [
    "import fcpy"
   ]
  },
  {
   "cell_type": "markdown",
   "id": "d5db5a2c",
   "metadata": {},
   "source": [
    "## Load data"
   ]
  },
  {
   "cell_type": "code",
   "execution_count": null,
   "id": "177bb6f6",
   "metadata": {},
   "outputs": [],
   "source": [
    "# the `load_dataset' option is currently unavalable due to data handling system move.\n",
    "# ds = fcpy.load_dataset(model='atmospheric-model', var_names=['2t', 'q', 'sst'], levels=list(range(1, 10)))\n",
    "\n",
    "# The `data` folder contains two sample NetCDF files.\n",
    "# Here we load specific humidity from CAMS at 32 bits\n",
    "fpath = \"../data/cams_q_20191201_v3.nc\"\n",
    "\n",
    "ds = fcpy.open_dataset(fpath)\n",
    "ds = ds[[\"q\"]]  # Select only q as this dataset contains more vars...\n",
    "ds"
   ]
  },
  {
   "cell_type": "markdown",
   "id": "0bfb52f1",
   "metadata": {},
   "source": [
    "## Define and run experiment"
   ]
  },
  {
   "cell_type": "code",
   "execution_count": null,
   "id": "1a0f56eb",
   "metadata": {},
   "outputs": [],
   "source": [
    "suite = fcpy.Suite(\n",
    "    ds,\n",
    "    baseline=fcpy.Float(bits=32),\n",
    "    compressors=[fcpy.LinQuantization(), fcpy.Round()],\n",
    "    metrics=[fcpy.Difference, fcpy.AbsoluteError],\n",
    "    bits=range(12, 23),\n",
    ")"
   ]
  },
  {
   "cell_type": "markdown",
   "id": "36e958a8",
   "metadata": {},
   "source": [
    "## Lineplot: evaluate the effect of bits"
   ]
  },
  {
   "cell_type": "code",
   "execution_count": null,
   "id": "2201ac35",
   "metadata": {},
   "outputs": [],
   "source": [
    "suite.nblineplot()"
   ]
  },
  {
   "cell_type": "markdown",
   "id": "13addcbc",
   "metadata": {},
   "source": [
    "## Spatial plots: evaluate the spatial distribution of errors"
   ]
  },
  {
   "cell_type": "code",
   "execution_count": null,
   "id": "6c61af79",
   "metadata": {},
   "outputs": [],
   "source": [
    "fcpy.nbspatialplot(\n",
    "    ds,\n",
    "    baseline=fcpy.Float(bits=32),\n",
    "    compressor=fcpy.LinQuantization(bits=12),\n",
    "    third_dim=\"lev\",\n",
    ")"
   ]
  },
  {
   "cell_type": "code",
   "execution_count": null,
   "id": "6e2373e2",
   "metadata": {},
   "outputs": [],
   "source": []
  }
 ],
 "metadata": {
  "kernelspec": {
   "display_name": "Python 3 (ipykernel)",
   "language": "python",
   "name": "python3"
  },
  "language_info": {
   "codemirror_mode": {
    "name": "ipython",
    "version": 3
   },
   "file_extension": ".py",
   "mimetype": "text/x-python",
   "name": "python",
   "nbconvert_exporter": "python",
   "pygments_lexer": "ipython3",
   "version": "3.10.6"
  }
 },
 "nbformat": 4,
 "nbformat_minor": 5
}
