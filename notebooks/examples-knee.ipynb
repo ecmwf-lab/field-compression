{
 "cells": [
  {
   "attachments": {},
   "cell_type": "markdown",
   "metadata": {},
   "source": [
    "# Information content example: compute knees"
   ]
  },
  {
   "cell_type": "code",
   "execution_count": null,
   "metadata": {},
   "outputs": [],
   "source": [
    "%load_ext autoreload\n",
    "%autoreload\n",
    "import fcpy"
   ]
  },
  {
   "cell_type": "code",
   "execution_count": null,
   "metadata": {},
   "outputs": [],
   "source": [
    "ds = fcpy.open_dataset(\"../data/cams_q_20191201_v3.nc\")\n",
    "\n",
    "ds = ds[[\"q\"]].isel(lev=range(0, 10))\n",
    "ds"
   ]
  },
  {
   "cell_type": "code",
   "execution_count": null,
   "metadata": {},
   "outputs": [],
   "source": [
    "da_reference = ds[\"q\"].isel(lev=0)\n",
    "da_reference.plot()"
   ]
  },
  {
   "cell_type": "code",
   "execution_count": null,
   "metadata": {},
   "outputs": [],
   "source": [
    "bits_params = fcpy.get_bits_params(da_reference)\n",
    "bits_min = fcpy.compute_min_bits(da_reference, bits_params)\n",
    "da_sigmas = fcpy.compute_sigmas(\n",
    "    da_reference, compressors=[fcpy.Round(), fcpy.LinQuantization()]\n",
    ")\n",
    "fcpy.compute_knees_field(da_reference, da_sigmas, plot=True);"
   ]
  },
  {
   "cell_type": "code",
   "execution_count": null,
   "metadata": {},
   "outputs": [],
   "source": []
  }
 ],
 "metadata": {
  "kernelspec": {
   "display_name": "Python 3 (ipykernel)",
   "language": "python",
   "name": "python3"
  },
  "language_info": {
   "codemirror_mode": {
    "name": "ipython",
    "version": 3
   },
   "file_extension": ".py",
   "mimetype": "text/x-python",
   "name": "python",
   "nbconvert_exporter": "python",
   "pygments_lexer": "ipython3",
   "version": "3.10.6"
  },
  "vscode": {
   "interpreter": {
    "hash": "53f894e0dcb18617adfb8166459c1fa1fb813968591fcc131000c13806b1ffe3"
   }
  }
 },
 "nbformat": 4,
 "nbformat_minor": 2
}
