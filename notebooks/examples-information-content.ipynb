{
 "cells": [
  {
   "attachments": {},
   "cell_type": "markdown",
   "metadata": {},
   "source": [
    "# Information content example: compute required bits"
   ]
  },
  {
   "cell_type": "code",
   "execution_count": null,
   "metadata": {},
   "outputs": [],
   "source": [
    "%load_ext autoreload\n",
    "%autoreload\n",
    "import fcpy"
   ]
  },
  {
   "cell_type": "code",
   "execution_count": null,
   "metadata": {},
   "outputs": [],
   "source": [
    "ds = fcpy.open_dataset(\"../data/cams_q_20191201_v3.nc\")\n",
    "\n",
    "ds = ds[[\"q\"]].isel(lev=range(0, 10))\n",
    "ds"
   ]
  },
  {
   "cell_type": "code",
   "execution_count": null,
   "metadata": {},
   "outputs": [],
   "source": [
    "data = fcpy.sigmas_iterate_ds(\n",
    "    ds, compressors=[fcpy.Round(), fcpy.LinQuantization()]\n",
    ")"
   ]
  },
  {
   "cell_type": "code",
   "execution_count": null,
   "metadata": {},
   "outputs": [],
   "source": [
    "def plot_vertical_bits(ds, y, metric):\n",
    "    import matplotlib.pyplot as plt\n",
    "    from cycler import cycler\n",
    "    import seaborn as sns\n",
    "    from matplotlib.ticker import MaxNLocator\n",
    "\n",
    "    _, ax = plt.subplots()\n",
    "    colors = sns.color_palette(\"colorblind\", 2)\n",
    "    custom_cycler = cycler(color=colors)\n",
    "    ax.set_prop_cycle(custom_cycler)\n",
    "    ds[metric].squeeze().plot.line(\n",
    "        ax=ax, y=y, hue=\"compressor\", marker=\"o\", linestyle=\"--\"\n",
    "    )\n",
    "    ax.xaxis.set_major_locator(MaxNLocator(integer=True))\n",
    "    ax.yaxis.set_major_locator(MaxNLocator(integer=True))\n",
    "    ax.set_title(f'{ds.attrs[\"long_name\"]} in {ds.attrs[\"units\"]}\\n{metric}')\n",
    "    ax.set_xlabel(metric)\n",
    "    ax.set_ylabel(\"Model level\")"
   ]
  },
  {
   "cell_type": "code",
   "execution_count": null,
   "metadata": {},
   "outputs": [],
   "source": [
    "for data_ in data.values():\n",
    "    plot_vertical_bits(data_, y=\"lev\", metric=\"bits\")"
   ]
  },
  {
   "cell_type": "code",
   "execution_count": null,
   "metadata": {},
   "outputs": [],
   "source": [
    "for data_ in data.values():\n",
    "    plot_vertical_bits(data_, y=\"lev\", metric=\"sigmas\")"
   ]
  },
  {
   "cell_type": "code",
   "execution_count": null,
   "metadata": {},
   "outputs": [],
   "source": [
    "for data_ in data.values():\n",
    "    plot_vertical_bits(data_, y=\"lev\", metric=\"bitinf\")"
   ]
  },
  {
   "cell_type": "code",
   "execution_count": null,
   "metadata": {},
   "outputs": [],
   "source": [
    "# Here we compare the spatial change of specific humidity\n",
    "# by rounding values to 8 bits\n",
    "fcpy.spatialplot(\n",
    "    ds=ds,\n",
    "    baseline=fcpy.Float(bits=32),\n",
    "    var_name=\"q\",\n",
    "    compressor=fcpy.Round(bits=6),\n",
    "    metric=fcpy.Difference,\n",
    "    latitude=0,\n",
    "    longitude=0,\n",
    "    lev=1,\n",
    "    third_dim=\"lev\",\n",
    ")"
   ]
  },
  {
   "cell_type": "code",
   "execution_count": null,
   "metadata": {},
   "outputs": [],
   "source": []
  }
 ],
 "metadata": {
  "kernelspec": {
   "display_name": "Python 3 (ipykernel)",
   "language": "python",
   "name": "python3"
  },
  "language_info": {
   "codemirror_mode": {
    "name": "ipython",
    "version": 3
   },
   "file_extension": ".py",
   "mimetype": "text/x-python",
   "name": "python",
   "nbconvert_exporter": "python",
   "pygments_lexer": "ipython3",
   "version": "3.10.6"
  },
  "vscode": {
   "interpreter": {
    "hash": "53f894e0dcb18617adfb8166459c1fa1fb813968591fcc131000c13806b1ffe3"
   }
  }
 },
 "nbformat": 4,
 "nbformat_minor": 2
}
