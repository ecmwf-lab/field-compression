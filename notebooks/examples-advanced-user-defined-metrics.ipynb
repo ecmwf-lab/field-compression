{
 "cells": [
  {
   "cell_type": "markdown",
   "id": "a62684b1",
   "metadata": {},
   "source": [
    "# Advanced example: define advanced metrics"
   ]
  },
  {
   "cell_type": "code",
   "execution_count": null,
   "id": "22b21b37",
   "metadata": {},
   "outputs": [],
   "source": [
    "%%javascript\n",
    "// leave this in to disable autoscroll in Jupyter notebook\n",
    "IPython.OutputArea.prototype._should_scroll = function(lines) {\n",
    "    return false;\n",
    "}"
   ]
  },
  {
   "cell_type": "markdown",
   "id": "77b5e621",
   "metadata": {},
   "source": [
    "## Imports"
   ]
  },
  {
   "cell_type": "code",
   "execution_count": null,
   "id": "fff97a07",
   "metadata": {},
   "outputs": [],
   "source": [
    "import fcpy"
   ]
  },
  {
   "cell_type": "markdown",
   "id": "0c15e8b9",
   "metadata": {},
   "source": [
    "## Load data"
   ]
  },
  {
   "cell_type": "code",
   "execution_count": null,
   "id": "33e53a9e",
   "metadata": {},
   "outputs": [],
   "source": [
    "# the `load_dataset' option is currently unavalable due to data handling system move.\n",
    "# ds = fcpy.load_dataset(model='atmospheric-model', var_names=['2t', 'q', 'sst'], levels=list(range(1, 10)))\n",
    "\n",
    "# The `data` folder contains two sample NetCDF files.\n",
    "# Here we load specific humidity from CAMS at 32 bits\n",
    "fpath = \"../data/cams_q_20191201_v3.nc\"\n",
    "\n",
    "ds = fcpy.open_dataset(fpath)\n",
    "ds = ds[[\"q\"]]  # Select q only as this dataset contains more vars...\n",
    "ds"
   ]
  },
  {
   "cell_type": "markdown",
   "id": "965dafb6",
   "metadata": {},
   "source": [
    "## Define own metric"
   ]
  },
  {
   "cell_type": "code",
   "execution_count": null,
   "id": "f07414c9",
   "metadata": {},
   "outputs": [],
   "source": [
    "# Advance use: define your own metric.\n",
    "# Here we count the number of unique values per compressor type\n",
    "# without relying on auto-chunking or precomputed histograms\n",
    "# this gives full flexibility but with greater complexity\n",
    "def unique_count(chunks, baseline, compressors, bits):\n",
    "    from fcpy import run_compressor_single\n",
    "    import xarray as xr\n",
    "    from collections import defaultdict\n",
    "\n",
    "    # Unique values of decompressed dataset\n",
    "    # ... over all compressors and bits\n",
    "    unique = defaultdict(set)\n",
    "    for chunk in chunks:\n",
    "        for compressor in compressors:\n",
    "            for bits_ in bits:\n",
    "                da_decompressed = run_compressor_single(chunk, compressor, bits_)\n",
    "                unique[(compressor.name, bits_)] |= set(\n",
    "                    da_decompressed.values.flatten()\n",
    "                )\n",
    "\n",
    "    counts = xr.DataArray(\n",
    "        0,\n",
    "        dims=[\"compressor\", \"bits\"],\n",
    "        coords={\"compressor\": [c.name for c in compressors], \"bits\": bits},\n",
    "    )\n",
    "    for compressor in compressors:\n",
    "        for bits_ in bits:\n",
    "            counts.loc[dict(compressor=compressor.name, bits=bits_)] = len(\n",
    "                unique[(compressor.name, bits_)]\n",
    "            )\n",
    "    return counts"
   ]
  },
  {
   "cell_type": "markdown",
   "id": "4369c73e",
   "metadata": {},
   "source": [
    "## Define and run experiment"
   ]
  },
  {
   "cell_type": "code",
   "execution_count": null,
   "id": "a72c35be",
   "metadata": {},
   "outputs": [],
   "source": [
    "suite = fcpy.Suite(\n",
    "    ds,\n",
    "    baseline=fcpy.Float(bits=32),\n",
    "    compressors=[fcpy.LinQuantization(), fcpy.Round()],\n",
    "    metrics=[fcpy.Difference, fcpy.AbsoluteError],\n",
    "    custom_metrics=[unique_count],\n",
    "    bits=[12, 14, 16, 18],\n",
    "    max_chunk_size_bytes=451 * 900 * 4,\n",
    "    skip_histograms=True,\n",
    ")"
   ]
  },
  {
   "cell_type": "markdown",
   "id": "5d9ff30b",
   "metadata": {},
   "source": [
    "## Plot results"
   ]
  },
  {
   "cell_type": "code",
   "execution_count": null,
   "id": "c732b11e",
   "metadata": {},
   "outputs": [],
   "source": [
    "# As data are in xarray, custom plots and comparisons are easy!\n",
    "# Verbosity here is to showcase full customization\n",
    "import matplotlib.pyplot as plt\n",
    "\n",
    "ds_unique_count = suite.custom_metrics[0]\n",
    "ds_unique_count.q.plot.line(x=\"bits\")\n",
    "plt.title(f\"{ds.q.long_name} in {ds.q.units}\")\n",
    "plt.xlabel(\"Bits\")\n",
    "plt.ylabel(\"Number of Unique Values\");"
   ]
  },
  {
   "cell_type": "code",
   "execution_count": null,
   "id": "72a4b2a0",
   "metadata": {},
   "outputs": [],
   "source": []
  }
 ],
 "metadata": {
  "kernelspec": {
   "display_name": "Python 3 (ipykernel)",
   "language": "python",
   "name": "python3"
  },
  "language_info": {
   "codemirror_mode": {
    "name": "ipython",
    "version": 3
   },
   "file_extension": ".py",
   "mimetype": "text/x-python",
   "name": "python",
   "nbconvert_exporter": "python",
   "pygments_lexer": "ipython3",
   "version": "3.10.6"
  }
 },
 "nbformat": 4,
 "nbformat_minor": 5
}
